{
 "cells": [
  {
   "cell_type": "code",
   "execution_count": 1,
   "metadata": {},
   "outputs": [],
   "source": [
    "from Base.RockPaperScissors._env import *"
   ]
  },
  {
   "cell_type": "code",
   "execution_count": 2,
   "metadata": {},
   "outputs": [],
   "source": [
    "import numpy as np\n",
    "\n",
    "def agent(state, per):\n",
    "    validActions = getValidActions(state)\n",
    "    actions = np.where( validActions)[0]\n",
    "    act = np.random.choice( actions)\n",
    "    return act, per"
   ]
  },
  {
   "cell_type": "code",
   "execution_count": 3,
   "metadata": {},
   "outputs": [
    {
     "data": {
      "text/plain": [
       "1"
      ]
     },
     "execution_count": 3,
     "metadata": {},
     "output_type": "execute_result"
    }
   ],
   "source": [
    "per = [np.zeros(1)]\n",
    "win, per = numba_main_2(agent, 1, per, 0)\n",
    "win"
   ]
  },
  {
   "cell_type": "code",
   "execution_count": 4,
   "metadata": {},
   "outputs": [],
   "source": [
    "from Base.RockPaperScissors._render_func import *\n",
    "state = np.array([1, 0, 0, 0, 1, 0, 0, 0])"
   ]
  },
  {
   "cell_type": "code",
   "execution_count": 6,
   "metadata": {},
   "outputs": [],
   "source": [
    "from setup import make\n",
    "\n",
    "from Base.RockPaperScissors._env import bot_lv0\n",
    "env = make(\"RockPaperScissors\")"
   ]
  },
  {
   "cell_type": "code",
   "execution_count": 7,
   "metadata": {},
   "outputs": [
    {
     "data": {
      "application/vnd.jupyter.widget-view+json": {
       "model_id": "4076bae941654ed19e6e42e174f15b11",
       "version_major": 2,
       "version_minor": 0
      },
      "text/plain": [
       "VBox(children=(Output(), HBox(children=(Dropdown(disabled=True, layout=Layout(width='20%'), options=('Take an …"
      ]
     },
     "metadata": {},
     "output_type": "display_data"
    }
   ],
   "source": [
    "env.render(Agent = bot_lv0, per_data=[0], level=0, max_temp_frame=100)"
   ]
  },
  {
   "cell_type": "code",
   "execution_count": 8,
   "metadata": {},
   "outputs": [],
   "source": [
    "from tests.CheckEnv import *"
   ]
  },
  {
   "cell_type": "code",
   "execution_count": 9,
   "metadata": {},
   "outputs": [
    {
     "data": {
      "text/plain": [
       "(True, [])"
      ]
     },
     "execution_count": 9,
     "metadata": {},
     "output_type": "execute_result"
    }
   ],
   "source": [
    "from setup import make\n",
    "from numba import njit\n",
    "import numpy as np\n",
    "\n",
    "def Agent(state, agent_data):\n",
    "    validActions = env.getValidActions(state)\n",
    "    actions = np.where(validActions==1)[0]\n",
    "    action = np.random.choice(actions)\n",
    "    return action, agent_data\n",
    "    \n",
    "env = make('RockPaperScissors')\n",
    "env.numba_main_2(Agent, 10000, [0], 0)\n",
    "# count_win, agent_data = env.numba_main_2(Agent, count_game_train, agent_data, level)\n",
    "check_env(env)"
   ]
  }
 ],
 "metadata": {
  "kernelspec": {
   "display_name": "Python 3",
   "language": "python",
   "name": "python3"
  },
  "language_info": {
   "codemirror_mode": {
    "name": "ipython",
    "version": 3
   },
   "file_extension": ".py",
   "mimetype": "text/x-python",
   "name": "python",
   "nbconvert_exporter": "python",
   "pygments_lexer": "ipython3",
   "version": "3.10.11"
  },
  "orig_nbformat": 4
 },
 "nbformat": 4,
 "nbformat_minor": 2
}
