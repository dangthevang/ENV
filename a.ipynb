{
 "cells": [
  {
   "cell_type": "code",
   "execution_count": 1,
   "metadata": {},
   "outputs": [],
   "source": [
    "from Base.MachiKoro_new._env import*\n",
    "\n",
    "import numpy as np\n",
    "import numba as nb\n",
    "\n",
    "\n",
    "from scipy.stats.mstats import gmean, hmean\n",
    "from numba import njit"
   ]
  },
  {
   "cell_type": "code",
   "execution_count": 2,
   "metadata": {},
   "outputs": [],
   "source": [
    "# @njit()\n",
    "def bot_monte(state, perData):\n",
    "    validActions = getValidActions(state)\n",
    "    arr_action = np.where(validActions == 1)[0]\n",
    "    action_return = -1\n",
    "    count_min = 10000\n",
    "    \n",
    "    # print('RUN lượt 1')\n",
    "    for action in arr_action[:1]:\n",
    "        state_test = state.copy()\n",
    "        action_test = action.copy()\n",
    "        # print('CHECK', arr_action, getReward(state_test))\n",
    "        id_action = 0\n",
    "        count_change = 0\n",
    "        count = 0\n",
    "        while getReward(state_test) == -1:\n",
    "            count += 1\n",
    "            \n",
    "            # else:\n",
    "                # print(count, ' doing', action_test)\n",
    "            # print('loop while')\n",
    "            try:\n",
    "                arr_next_state, arr_prob_next = getPredictState(state_test, action_test)\n",
    "            except:\n",
    "                print(list(state_test))\n",
    "                raise Exception('toang predict')\n",
    "            # state_test = arr_next_state[np.random.randint(0, len(arr_prob_next))]       #chọn ngẫu nhiên 1 state\n",
    "            state_test = arr_next_state[0]\n",
    "            id_real_action = np.where(state_test[P_ID_ACTION : P_ID_ACTION + NUMBER_PLAYER])[0][0]\n",
    "            \n",
    "            if id_real_action != id_action:\n",
    "                count_change += 1\n",
    "                id_action = id_real_action\n",
    "\n",
    "            arr_action_test = np.where(getValidActions(state_test))[0]                  #các action khả dĩ ở state được chọn\n",
    "            action_test = np.random.choice(arr_action_test)                             #chọn ngẫu nhiên 1 action\n",
    "            # if state_test[P_CHECK_END] == 1:\n",
    "            #     print('end game')\n",
    "\n",
    "        # print('DONE loop')\n",
    "        count_turn = count_change // 4\n",
    "\n",
    "        if count_turn < count_min:\n",
    "            count_min = count_turn\n",
    "            action_return = action\n",
    "    # print('check', action_return, count_min)\n",
    "\n",
    "    return action_return, perData\n",
    "\n",
    "\n"
   ]
  },
  {
   "cell_type": "code",
   "execution_count": 3,
   "metadata": {},
   "outputs": [],
   "source": [
    "per = np.zeros(10)\n",
    "\n",
    "win, per = numba_main_2(bot_monte, 100, per, 0)\n",
    "\n",
    "print(\"DONE\", win)"
   ]
  },
  {
   "cell_type": "code",
   "execution_count": 4,
   "metadata": {},
   "outputs": [
    {
     "data": {
      "text/plain": [
       "array([0., 0., 0., 0., 0., 0., 0., 1., 0., 0., 0., 0.])"
      ]
     },
     "execution_count": 4,
     "metadata": {},
     "output_type": "execute_result"
    }
   ],
   "source": [
    "state = np.array([26.0, 5.0, 4.0, 3.0, 5.0, 3.0, 3.0, 6.0, 4.0, 6.0, 2.0, 3.0, 0.0, 1.0, 1.0, 1.0, 0.0, 0.0, 0.0, 1.0, 0.0, 2.0, 0.0, 3.0, 1.0, 0.0, 1.0, 0.0, 2.0, 0.0, 1.0, 1.0, 3.0, 0.0, 0.0, 0.0, 0.0, 0.0, 0.0, 0.0, 9.0, 2.0, 1.0, 1.0, 0.0, 1.0, 2.0, 0.0, 0.0, 0.0, 0.0, 2.0, 2.0, 1.0, 1.0, 0.0, 0.0, 0.0, 0.0, 1.0, 1.0, 1.0, 1.0, 3.0, 0.0, 2.0, 0.0, 0.0, 0.0, 0.0, 3.0, 0.0, 1.0, 0.0, 1.0, 0.0, 0.0, 0.0, 1.0, 1.0, 0.0, 0.0, 0.0, 0.0, 0.0, 0.0, 0.0, 0.0, 0.0, 0.0, 0.0, 0.0, 0.0, 0.0, 0.0, 0.0, 0.0, 0.0, 0.0, 0.0, 0.0, 0.0, 0.0, 0.0, 0.0, 0.0, 0.0, 0.0, 0.0, 0.0, 0.0, 1.0, 0.0, 0.0, 0.0, 0.0, 0.0, 6.0, 0.0, 1.0, 0.0, 0.0, 0.0, 0.0, 0.0, 0.0, 0.0, 1.0, 0.0, 0.0, 0.0, 0.0, 0.0, 0.0, 0.0, 0.0, 0.0, 0.0, 0.0, 0.0, 0.0, 0.0, 1.0, 0.0, 0.0, 0.0]\n",
    "\n",
    "\n",
    ")\n",
    "\n",
    "\n",
    "\n",
    "state[P_CARD_SELL : P_CARD_SELL + NUMBER_TYPE_NORMAL_CARD]"
   ]
  },
  {
   "cell_type": "code",
   "execution_count": 5,
   "metadata": {},
   "outputs": [
    {
     "data": {
      "text/plain": [
       "array([0., 0., 0., 0., 0., 1., 0.])"
      ]
     },
     "execution_count": 5,
     "metadata": {},
     "output_type": "execute_result"
    }
   ],
   "source": [
    "state[P_PHASE : P_PHASE + NUMBER_PHASE]"
   ]
  },
  {
   "cell_type": "code",
   "execution_count": 7,
   "metadata": {},
   "outputs": [
    {
     "data": {
      "text/plain": [
       "8"
      ]
     },
     "execution_count": 7,
     "metadata": {},
     "output_type": "execute_result"
    }
   ],
   "source": [
    "np.where(state[P_CARD_SELL : P_CARD_SELL + NUMBER_TYPE_NORMAL_CARD])[0][0] + 1"
   ]
  },
  {
   "cell_type": "code",
   "execution_count": 34,
   "metadata": {},
   "outputs": [],
   "source": [
    "@njit()\n",
    "def getPseudoAction(state, per_file):\n",
    "    real_action = getValidActions(state)\n",
    "\n",
    "    list_action_return = np.zeros(len(per_file[0]))\n",
    "    list_action_return[:getActionSize()] = real_action\n",
    "\n",
    "    for id in range(len(per_file[1])):\n",
    "        action_real = np.where(per_file[1][id])[0][0]\n",
    "        check = True\n",
    "        for id_c in range(len(per_file[1][id])):\n",
    "            if np.sum(state*per_file[2][id][id_c]) <= per_file[3][id][id_c]:\n",
    "                check = False\n",
    "                break\n",
    "        if check and real_action[action_real] == 1:\n",
    "            list_action_return[getActionSize() + id] = 1\n",
    "        \n",
    "    \n",
    "    return list_action_return\n",
    "\n",
    "\n",
    "@njit()\n",
    "def agent_Hieu(state, per):\n",
    "    bias = per[0][0][0]\n",
    "    arr_actions = getPseudoAction(state, per)\n",
    "    action = np.argmax(bias*arr_actions)\n",
    "    if action == len(bias) - 2:\n",
    "        action = 1\n",
    "    elif action == len(bias) - 1:\n",
    "        action = 4\n",
    "\n",
    "    return action, per\n",
    "\n",
    "from numba.typed import List, Dict\n",
    "\n",
    "@njit()\n",
    "def create_perx():\n",
    "    perx = Dict()\n",
    "\n",
    "    temp = List([np.zeros((1,500))])\n",
    "    temp.pop(0)\n",
    "    perx[0] = temp.copy()       #bias\n",
    "    perx[1] = temp.copy()       #action real\n",
    "    perx[2] = temp.copy()       #arr operator (+,-, constant)\n",
    "    perx[3] = temp.copy()       #value compare\n",
    "    perx[4] = temp.copy()\n",
    "\n",
    "\n",
    "    return perx\n",
    "\n",
    "per = create_perx()\n",
    "per[0].append(np.random.rand(1,500))\n",
    "\n",
    "arr_action_pseudo = np.zeros((1,500))\n",
    "state_condition_operator = np.zeros((2,500))\n",
    "value_compare = np.zeros((2,1))\n",
    "\n",
    "\n",
    "arr_action_pseudo[0][1] = 1\n",
    "state_condition_operator[0][17] = 1\n",
    "state_condition_operator[1][6] = 1\n",
    "value_compare[0] = 5\n",
    "value_compare[1] = 3\n",
    "\n",
    "per[1].append(arr_action_pseudo)\n",
    "per[2].append(state_condition_operator)\n",
    "per[3].append(value_compare)\n",
    "\n",
    "arr_action_pseudo = np.zeros((1,500))\n",
    "state_condition_operator = np.zeros((2,500))\n",
    "value_compare = np.zeros((2,1))\n",
    "\n",
    "arr_action_pseudo[0][4] = 1\n",
    "state_condition_operator[0][3] = 1\n",
    "state_condition_operator[0][5] = -1\n",
    "\n",
    "state_condition_operator[1][4] = 1\n",
    "state_condition_operator[1][2] = 1\n",
    "\n",
    "value_compare[0] = 0\n",
    "value_compare[1] = 7\n",
    "\n",
    "per[1].append(arr_action_pseudo)\n",
    "per[2].append(state_condition_operator)\n",
    "per[3].append(value_compare)\n",
    "\n",
    "\n"
   ]
  },
  {
   "cell_type": "code",
   "execution_count": 4,
   "metadata": {},
   "outputs": [
    {
     "name": "stdout",
     "output_type": "stream",
     "text": [
      "[0. 0. 0. 0. 0. 0. 0. 0. 0. 0. 0. 0. 0. 0. 0.]\n"
     ]
    },
    {
     "data": {
      "text/plain": [
       "array([[0., 0., 0., 0., 0., 0., 0., 0., 0., 0., 0., 0., 0., 0., 0.],\n",
       "       [0., 0., 0., 0., 0., 0., 0., 0., 0., 0., 0., 0., 0., 0., 0.],\n",
       "       [0., 0., 0., 0., 0., 0., 0., 0., 0., 0., 0., 0., 0., 0., 0.]])"
      ]
     },
     "execution_count": 4,
     "metadata": {},
     "output_type": "execute_result"
    }
   ],
   "source": [
    "import numpy as np\n",
    "from numba import njit\n",
    "\n",
    "@njit()\n",
    "def test():\n",
    "    a = np.zeros((2,15))\n",
    "    a\n",
    "    b = np.zeros(15)\n",
    "    print(b)\n",
    "    c = b.reshape(1,15)\n",
    "    a = np.append(a,c, axis=0)\n",
    "    return a\n",
    "test()"
   ]
  },
  {
   "cell_type": "code",
   "execution_count": 36,
   "metadata": {},
   "outputs": [
    {
     "ename": "ValueError",
     "evalue": "cannot assign slice from input of different size",
     "output_type": "error",
     "traceback": [
      "\u001b[1;31m---------------------------------------------------------------------------\u001b[0m",
      "\u001b[1;31mValueError\u001b[0m                                Traceback (most recent call last)",
      "\u001b[1;32mc:\\Users\\Admin\\Desktop\\FEB_2023_VIS\\TEST\\ENV\\a.ipynb Cell 3\u001b[0m in \u001b[0;36m<cell line: 1>\u001b[1;34m()\u001b[0m\n\u001b[1;32m----> <a href='vscode-notebook-cell:/c%3A/Users/Admin/Desktop/FEB_2023_VIS/TEST/ENV/a.ipynb#X12sZmlsZQ%3D%3D?line=0'>1</a>\u001b[0m win, per \u001b[39m=\u001b[39m numba_main_2(agent_Hieu, \u001b[39m1000\u001b[39;49m, per, \u001b[39m0\u001b[39;49m)\n",
      "File \u001b[1;32mc:\\Users\\Admin\\Desktop\\FEB_2023_VIS\\TEST\\ENV\\Base\\Splendor_v2\\_env.py:615\u001b[0m, in \u001b[0;36mnumba_main_2\u001b[1;34m(p0, num_game, per_player, level, *args)\u001b[0m\n\u001b[0;32m    612\u001b[0m load_agent(level, \u001b[39m*\u001b[39margs)\n\u001b[0;32m    614\u001b[0m \u001b[39mif\u001b[39;00m check_njit:\n\u001b[1;32m--> 615\u001b[0m     \u001b[39mreturn\u001b[39;00m n_games_numba(p0, num_game, per_player, list_other,\n\u001b[0;32m    616\u001b[0m                             _list_per_level_[\u001b[39m0\u001b[39;49m], _list_per_level_[\u001b[39m1\u001b[39;49m], _list_per_level_[\u001b[39m2\u001b[39;49m],\n\u001b[0;32m    617\u001b[0m                             _list_bot_level_[\u001b[39m0\u001b[39;49m], _list_bot_level_[\u001b[39m1\u001b[39;49m], _list_bot_level_[\u001b[39m2\u001b[39;49m])\n\u001b[0;32m    618\u001b[0m \u001b[39melse\u001b[39;00m:\n\u001b[0;32m    619\u001b[0m     \u001b[39mreturn\u001b[39;00m n_games_normal(p0, num_game, per_player, list_other,\n\u001b[0;32m    620\u001b[0m                             _list_per_level_[\u001b[39m0\u001b[39m], _list_per_level_[\u001b[39m1\u001b[39m], _list_per_level_[\u001b[39m2\u001b[39m],\n\u001b[0;32m    621\u001b[0m                             _list_bot_level_[\u001b[39m0\u001b[39m], _list_bot_level_[\u001b[39m1\u001b[39m], _list_bot_level_[\u001b[39m2\u001b[39m])\n",
      "\u001b[1;31mValueError\u001b[0m: cannot assign slice from input of different size"
     ]
    }
   ],
   "source": [
    "win, per = numba_main_2(agent_Hieu, 1000, per, 0)\n",
    "\n"
   ]
  },
  {
   "cell_type": "code",
   "execution_count": 6,
   "metadata": {},
   "outputs": [
    {
     "data": {
      "text/plain": [
       "array([[1, 2, 3],\n",
       "       [2, 1, 3]])"
      ]
     },
     "execution_count": 6,
     "metadata": {},
     "output_type": "execute_result"
    }
   ],
   "source": [
    "b = np.random.randint(1,5,(2,3))\n",
    "b"
   ]
  },
  {
   "cell_type": "code",
   "execution_count": 7,
   "metadata": {},
   "outputs": [
    {
     "data": {
      "text/plain": [
       "array([[4, 6, 3],\n",
       "       [8, 2, 9]])"
      ]
     },
     "execution_count": 7,
     "metadata": {},
     "output_type": "execute_result"
    }
   ],
   "source": [
    "a*b"
   ]
  },
  {
   "cell_type": "code",
   "execution_count": 9,
   "metadata": {},
   "outputs": [
    {
     "data": {
      "text/plain": [
       "array([[1, 1, 2]])"
      ]
     },
     "execution_count": 9,
     "metadata": {},
     "output_type": "execute_result"
    }
   ],
   "source": [
    "c = np.random.randint(1,5,(1,3))\n",
    "c"
   ]
  },
  {
   "cell_type": "code",
   "execution_count": 10,
   "metadata": {},
   "outputs": [
    {
     "data": {
      "text/plain": [
       "array([[1, 2, 6],\n",
       "       [2, 1, 6]])"
      ]
     },
     "execution_count": 10,
     "metadata": {},
     "output_type": "execute_result"
    }
   ],
   "source": [
    "b*c"
   ]
  },
  {
   "cell_type": "code",
   "execution_count": 1,
   "metadata": {},
   "outputs": [
    {
     "data": {
      "text/plain": [
       "1"
      ]
     },
     "execution_count": 1,
     "metadata": {},
     "output_type": "execute_result"
    }
   ],
   "source": [
    "-3%4"
   ]
  },
  {
   "cell_type": "code",
   "execution_count": null,
   "metadata": {},
   "outputs": [],
   "source": []
  }
 ],
 "metadata": {
  "kernelspec": {
   "display_name": ".venv",
   "language": "python",
   "name": "python3"
  },
  "language_info": {
   "codemirror_mode": {
    "name": "ipython",
    "version": 3
   },
   "file_extension": ".py",
   "mimetype": "text/x-python",
   "name": "python",
   "nbconvert_exporter": "python",
   "pygments_lexer": "ipython3",
   "version": "3.10.4"
  },
  "orig_nbformat": 4
 },
 "nbformat": 4,
 "nbformat_minor": 2
}
