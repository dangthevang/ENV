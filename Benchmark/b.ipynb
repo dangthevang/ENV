{
 "cells": [
  {
   "cell_type": "code",
   "execution_count": 6,
   "metadata": {},
   "outputs": [
    {
     "name": "stdout",
     "output_type": "stream",
     "text": [
      "A:\\ENV\n"
     ]
    },
    {
     "data": {
      "application/vnd.jupyter.widget-view+json": {
       "model_id": "cc1bddb6659e4c0b966cbf91747073fc",
       "version_major": 2,
       "version_minor": 0
      },
      "text/plain": [
       "VBox(children=(Output(), HBox(children=(Dropdown(disabled=True, layout=Layout(width='20%'), options=('Take an …"
      ]
     },
     "metadata": {},
     "output_type": "display_data"
    }
   ],
   "source": [
    "%cd A:/ENV\n",
    "from setup import make\n",
    "from Base.Splendor_v2._env import bot_lv0\n",
    "env = make(\"Splendor_v2\")\n",
    "env.render(Agent=bot_lv0, per_data=[0], level=0, max_temp_frame=100)"
   ]
  },
  {
   "cell_type": "code",
   "execution_count": 4,
   "metadata": {},
   "outputs": [
    {
     "name": "stdout",
     "output_type": "stream",
     "text": [
      "A:\\ENV\n"
     ]
    }
   ],
   "source": [
    "%cd A:/ENV"
   ]
  },
  {
   "cell_type": "code",
   "execution_count": 7,
   "metadata": {},
   "outputs": [
    {
     "name": "stdout",
     "output_type": "stream",
     "text": [
      "Century\n",
      "Exploding_Kitten\n",
      "Fantan\n",
      "GoFish\n",
      "Imploding_Kitten\n",
      "Phom\n",
      "Sheriff\n",
      "WelcomeToTheDungeon_v1\n",
      "WelcomeToTheDungeon_v2\n"
     ]
    }
   ],
   "source": [
    "import os\n",
    "for i in os.listdir(\"Base\"):\n",
    "    if not '_render_func.py' in os.listdir(f\"Base/{i}\"):\n",
    "        print(i)"
   ]
  },
  {
   "cell_type": "code",
   "execution_count": 2,
   "metadata": {},
   "outputs": [],
   "source": [
    "a = {\n",
    "  \"sha\": \"b6af1bacc23dddb1c23ef85f361f94a009558a75\",\n",
    "  \"node_id\": \"C_kwDOJES6StoAKGI2YWYxYmFjYzIzZGRkYjFjMjNlZjg1ZjM2MWY5NGEwMDk1NThhNzU\",\n",
    "  \"commit\": {\n",
    "    \"author\": {\n",
    "      \"name\": \"DESKTOP-25QH34T\\\\ADMIN\",\n",
    "      \"email\": \"xuanphongcht@gmail.com\",\n",
    "      \"date\": \"2023-05-16T18:07:05Z\"\n",
    "    },\n",
    "    \"committer\": {\n",
    "      \"name\": \"DESKTOP-25QH34T\\\\ADMIN\",\n",
    "      \"email\": \"xuanphongcht@gmail.com\",\n",
    "      \"date\": \"2023-05-16T18:07:05Z\"\n",
    "    },\n",
    "    \"message\": \"change link api github\",\n",
    "    \"tree\": {\n",
    "      \"sha\": \"a6820b01bb60bd10286387de4d8300b2fa6842da\",\n",
    "      \"url\": \"https://api.github.com/repos/ngoxuanphong/ENV/git/trees/a6820b01bb60bd10286387de4d8300b2fa6842da\"\n",
    "    },\n",
    "    \"url\": \"https://api.github.com/repos/ngoxuanphong/ENV/git/commits/b6af1bacc23dddb1c23ef85f361f94a009558a75\",\n",
    "    \"comment_count\": 0,\n",
    "    \"verification\": {\n",
    "      \"verified\": 'false',\n",
    "      \"reason\": \"unsigned\",\n",
    "      \"signature\": 'null',\n",
    "      \"payload\": 'null'\n",
    "    }\n",
    "  },\n",
    "  \"url\": \"https://api.github.com/repos/ngoxuanphong/ENV/commits/b6af1bacc23dddb1c23ef85f361f94a009558a75\",\n",
    "  \"html_url\": \"https://github.com/ngoxuanphong/ENV/commit/b6af1bacc23dddb1c23ef85f361f94a009558a75\",\n",
    "  \"comments_url\": \"https://api.github.com/repos/ngoxuanphong/ENV/commits/b6af1bacc23dddb1c23ef85f361f94a009558a75/comments\",\n",
    "  \"author\": {\n",
    "    \"login\": \"ngoxuanphong\",\n",
    "    \"id\": 81522072,\n",
    "    \"node_id\": \"MDQ6VXNlcjgxNTIyMDcy\",\n",
    "    \"avatar_url\": \"https://avatars.githubusercontent.com/u/81522072?v=4\",\n",
    "    \"gravatar_id\": \"\",\n",
    "    \"url\": \"https://api.github.com/users/ngoxuanphong\",\n",
    "    \"html_url\": \"https://github.com/ngoxuanphong\",\n",
    "    \"followers_url\": \"https://api.github.com/users/ngoxuanphong/followers\",\n",
    "    \"following_url\": \"https://api.github.com/users/ngoxuanphong/following{/other_user}\",\n",
    "    \"gists_url\": \"https://api.github.com/users/ngoxuanphong/gists{/gist_id}\",\n",
    "    \"starred_url\": \"https://api.github.com/users/ngoxuanphong/starred{/owner}{/repo}\",\n",
    "    \"subscriptions_url\": \"https://api.github.com/users/ngoxuanphong/subscriptions\",\n",
    "    \"organizations_url\": \"https://api.github.com/users/ngoxuanphong/orgs\",\n",
    "    \"repos_url\": \"https://api.github.com/users/ngoxuanphong/repos\",\n",
    "    \"events_url\": \"https://api.github.com/users/ngoxuanphong/events{/privacy}\",\n",
    "    \"received_events_url\": \"https://api.github.com/users/ngoxuanphong/received_events\",\n",
    "    \"type\": \"User\",\n",
    "    \"site_admin\": 'false'\n",
    "  },\n",
    "  \"committer\": {\n",
    "    \"login\": \"ngoxuanphong\",\n",
    "    \"id\": 81522072,\n",
    "    \"node_id\": \"MDQ6VXNlcjgxNTIyMDcy\",\n",
    "    \"avatar_url\": \"https://avatars.githubusercontent.com/u/81522072?v=4\",\n",
    "    \"gravatar_id\": \"\",\n",
    "    \"url\": \"https://api.github.com/users/ngoxuanphong\",\n",
    "    \"html_url\": \"https://github.com/ngoxuanphong\",\n",
    "    \"followers_url\": \"https://api.github.com/users/ngoxuanphong/followers\",\n",
    "    \"following_url\": \"https://api.github.com/users/ngoxuanphong/following{/other_user}\",\n",
    "    \"gists_url\": \"https://api.github.com/users/ngoxuanphong/gists{/gist_id}\",\n",
    "    \"starred_url\": \"https://api.github.com/users/ngoxuanphong/starred{/owner}{/repo}\",\n",
    "    \"subscriptions_url\": \"https://api.github.com/users/ngoxuanphong/subscriptions\",\n",
    "    \"organizations_url\": \"https://api.github.com/users/ngoxuanphong/orgs\",\n",
    "    \"repos_url\": \"https://api.github.com/users/ngoxuanphong/repos\",\n",
    "    \"events_url\": \"https://api.github.com/users/ngoxuanphong/events{/privacy}\",\n",
    "    \"received_events_url\": \"https://api.github.com/users/ngoxuanphong/received_events\",\n",
    "    \"type\": \"User\",\n",
    "    \"site_admin\": 'false'\n",
    "  },\n",
    "  \"parents\": [\n",
    "    {\n",
    "      \"sha\": \"f56a71e92897e709380e2997a0e773f226fe1176\",\n",
    "      \"url\": \"https://api.github.com/repos/ngoxuanphong/ENV/commits/f56a71e92897e709380e2997a0e773f226fe1176\",\n",
    "      \"html_url\": \"https://github.com/ngoxuanphong/ENV/commit/f56a71e92897e709380e2997a0e773f226fe1176\"\n",
    "    }\n",
    "  ],\n",
    "  \"stats\": {\n",
    "    \"total\": 2,\n",
    "    \"additions\": 1,\n",
    "    \"deletions\": 1\n",
    "  },\n",
    "  \"files\": [\n",
    "    {\n",
    "      \"sha\": \"408ec358cb95b7840f772958276f07f3da31793b\",\n",
    "      \"filename\": \".github/workflows/python_check.yml\",\n",
    "      \"status\": \"modified\",\n",
    "      \"additions\": 1,\n",
    "      \"deletions\": 1,\n",
    "      \"changes\": 2,\n",
    "      \"blob_url\": \"https://github.com/ngoxuanphong/ENV/blob/b6af1bacc23dddb1c23ef85f361f94a009558a75/.github%2Fworkflows%2Fpython_check.yml\",\n",
    "      \"raw_url\": \"https://github.com/ngoxuanphong/ENV/raw/b6af1bacc23dddb1c23ef85f361f94a009558a75/.github%2Fworkflows%2Fpython_check.yml\",\n",
    "      \"contents_url\": \"https://api.github.com/repos/ngoxuanphong/ENV/contents/.github%2Fworkflows%2Fpython_check.yml?ref=b6af1bacc23dddb1c23ef85f361f94a009558a75\",\n",
    "      \"patch\": \"@@ -25,7 +25,7 @@ jobs:\\n           commit_sha=${{ github.sha }}\\n           repo_owner=${{ github.repository_owner }}\\n           repo_name=${{ github.repository }}\\n-          api_url=\\\"https://api.github.com/repos/${repo_owner}/${repo_name}/commits/${commit_sha}/files\\\"\\n+          api_url=\\\"https://api.github.com/repos/${repo_name}/commits/${commit_sha}\\\"\\n           echo \\\"API URL: $api_url\\\"\\n           changed_files=$(curl -s $api_url | jq -r '.[].file.filename')\\n \"\n",
    "    }\n",
    "  ]\n",
    "}"
   ]
  },
  {
   "cell_type": "code",
   "execution_count": 6,
   "metadata": {},
   "outputs": [
    {
     "data": {
      "text/plain": [
       "[{'sha': '408ec358cb95b7840f772958276f07f3da31793b',\n",
       "  'filename': '.github/workflows/python_check.yml',\n",
       "  'status': 'modified',\n",
       "  'additions': 1,\n",
       "  'deletions': 1,\n",
       "  'changes': 2,\n",
       "  'blob_url': 'https://github.com/ngoxuanphong/ENV/blob/b6af1bacc23dddb1c23ef85f361f94a009558a75/.github%2Fworkflows%2Fpython_check.yml',\n",
       "  'raw_url': 'https://github.com/ngoxuanphong/ENV/raw/b6af1bacc23dddb1c23ef85f361f94a009558a75/.github%2Fworkflows%2Fpython_check.yml',\n",
       "  'contents_url': 'https://api.github.com/repos/ngoxuanphong/ENV/contents/.github%2Fworkflows%2Fpython_check.yml?ref=b6af1bacc23dddb1c23ef85f361f94a009558a75',\n",
       "  'patch': '@@ -25,7 +25,7 @@ jobs:\\n           commit_sha=${{ github.sha }}\\n           repo_owner=${{ github.repository_owner }}\\n           repo_name=${{ github.repository }}\\n-          api_url=\"https://api.github.com/repos/${repo_owner}/${repo_name}/commits/${commit_sha}/files\"\\n+          api_url=\"https://api.github.com/repos/${repo_name}/commits/${commit_sha}\"\\n           echo \"API URL: $api_url\"\\n           changed_files=$(curl -s $api_url | jq -r \\'.[].file.filename\\')\\n '}]"
      ]
     },
     "execution_count": 6,
     "metadata": {},
     "output_type": "execute_result"
    }
   ],
   "source": [
    "a['files']"
   ]
  }
 ],
 "metadata": {
  "kernelspec": {
   "display_name": "Python 3",
   "language": "python",
   "name": "python3"
  },
  "language_info": {
   "codemirror_mode": {
    "name": "ipython",
    "version": 3
   },
   "file_extension": ".py",
   "mimetype": "text/x-python",
   "name": "python",
   "nbconvert_exporter": "python",
   "pygments_lexer": "ipython3",
   "version": "3.10.0"
  },
  "orig_nbformat": 4
 },
 "nbformat": 4,
 "nbformat_minor": 2
}
